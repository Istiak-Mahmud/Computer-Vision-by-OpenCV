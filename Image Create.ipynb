{
 "cells": [
  {
   "cell_type": "code",
   "execution_count": 4,
   "metadata": {},
   "outputs": [],
   "source": [
    "import numpy as np\n",
    "import cv2\n",
    "pic = np.zeros((500,500,3),dtype='uint8')\n",
    "font = cv2.FONT_HERSHEY_DUPLEX\n",
    "cv2.putText(pic,'Istiak Mahmud',(100,100),font,1,(255,255,255),4,cv2.LINE_8)\n",
    "cv2.rectangle(pic,(0,0),(500,150),(123,200,98),3,lineType=8,shift=0)\n",
    "cv2.line(pic,(133,138),(388,133),(0,0,255))\n",
    "color = (255,0,255)\n",
    "cv2.circle(pic,(250,250),50,color)\n",
    "cv2.imshow('dark',pic)\n",
    "cv2.waitKey(0)\n",
    "cv2.destroyAllWindows()"
   ]
  },
  {
   "cell_type": "code",
   "execution_count": null,
   "metadata": {},
   "outputs": [],
   "source": []
  }
 ],
 "metadata": {
  "kernelspec": {
   "display_name": "Python 3",
   "language": "python",
   "name": "python3"
  },
  "language_info": {
   "codemirror_mode": {
    "name": "ipython",
    "version": 3
   },
   "file_extension": ".py",
   "mimetype": "text/x-python",
   "name": "python",
   "nbconvert_exporter": "python",
   "pygments_lexer": "ipython3",
   "version": "3.7.7"
  }
 },
 "nbformat": 4,
 "nbformat_minor": 4
}
