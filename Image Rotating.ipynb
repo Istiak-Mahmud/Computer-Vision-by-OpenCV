{
 "cells": [
  {
   "cell_type": "code",
   "execution_count": 9,
   "metadata": {},
   "outputs": [],
   "source": [
    "import cv2\n",
    "import numpy as np\n",
    "pic = cv2.imread('image.jpg')\n",
    "cols=pic.shape[1]\n",
    "rows=pic.shape[0]\n",
    "center=(cols/2,rows/2)\n",
    "angle=90\n",
    "\n",
    "M=cv2.getRotationMatrix2D(center,angle,1)\n",
    "\n",
    "rotate=cv2.warpAffine(pic,M,(cols,rows))\n",
    "#img = cv2.imwrite('image.png',img)\n",
    "cv2.imshow('rotated',rotate)\n",
    "cv2.waitKey(0)\n",
    "cv2.destroyAllWindows()"
   ]
  },
  {
   "cell_type": "code",
   "execution_count": null,
   "metadata": {},
   "outputs": [],
   "source": []
  }
 ],
 "metadata": {
  "kernelspec": {
   "display_name": "Python 3",
   "language": "python",
   "name": "python3"
  },
  "language_info": {
   "codemirror_mode": {
    "name": "ipython",
    "version": 3
   },
   "file_extension": ".py",
   "mimetype": "text/x-python",
   "name": "python",
   "nbconvert_exporter": "python",
   "pygments_lexer": "ipython3",
   "version": "3.7.7"
  }
 },
 "nbformat": 4,
 "nbformat_minor": 4
}
